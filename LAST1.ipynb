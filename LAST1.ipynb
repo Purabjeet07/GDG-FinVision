{
  "nbformat": 4,
  "nbformat_minor": 0,
  "metadata": {
    "colab": {
      "provenance": []
    },
    "kernelspec": {
      "name": "python3",
      "display_name": "Python 3"
    },
    "language_info": {
      "name": "python"
    },
    "widgets": {
      "application/vnd.jupyter.widget-state+json": {
        "e9d71e5404664df6b8e48699c97cf444": {
          "model_module": "@jupyter-widgets/controls",
          "model_name": "HBoxModel",
          "model_module_version": "1.5.0",
          "state": {
            "_dom_classes": [],
            "_model_module": "@jupyter-widgets/controls",
            "_model_module_version": "1.5.0",
            "_model_name": "HBoxModel",
            "_view_count": null,
            "_view_module": "@jupyter-widgets/controls",
            "_view_module_version": "1.5.0",
            "_view_name": "HBoxView",
            "box_style": "",
            "children": [
              "IPY_MODEL_68c174ed45e747d582091b43386f2eb6",
              "IPY_MODEL_36bc73b908844333a73178e5e8ad4aff",
              "IPY_MODEL_7646d27b4bb74dcfb01aba2616f5fa82"
            ],
            "layout": "IPY_MODEL_aba8e26eab7a4af4be86bbbccfd13bdc"
          }
        },
        "68c174ed45e747d582091b43386f2eb6": {
          "model_module": "@jupyter-widgets/controls",
          "model_name": "HTMLModel",
          "model_module_version": "1.5.0",
          "state": {
            "_dom_classes": [],
            "_model_module": "@jupyter-widgets/controls",
            "_model_module_version": "1.5.0",
            "_model_name": "HTMLModel",
            "_view_count": null,
            "_view_module": "@jupyter-widgets/controls",
            "_view_module_version": "1.5.0",
            "_view_name": "HTMLView",
            "description": "",
            "description_tooltip": null,
            "layout": "IPY_MODEL_a58ac398f9c64320ba07557f7a96565a",
            "placeholder": "​",
            "style": "IPY_MODEL_756a202f777c482188288f4a34fa1a51",
            "value": "config.json: 100%"
          }
        },
        "36bc73b908844333a73178e5e8ad4aff": {
          "model_module": "@jupyter-widgets/controls",
          "model_name": "FloatProgressModel",
          "model_module_version": "1.5.0",
          "state": {
            "_dom_classes": [],
            "_model_module": "@jupyter-widgets/controls",
            "_model_module_version": "1.5.0",
            "_model_name": "FloatProgressModel",
            "_view_count": null,
            "_view_module": "@jupyter-widgets/controls",
            "_view_module_version": "1.5.0",
            "_view_name": "ProgressView",
            "bar_style": "success",
            "description": "",
            "description_tooltip": null,
            "layout": "IPY_MODEL_5ba341d456b6447a9ecf16fbe838baff",
            "max": 629,
            "min": 0,
            "orientation": "horizontal",
            "style": "IPY_MODEL_38c1231326684a4cb7c5a56e951a008b",
            "value": 629
          }
        },
        "7646d27b4bb74dcfb01aba2616f5fa82": {
          "model_module": "@jupyter-widgets/controls",
          "model_name": "HTMLModel",
          "model_module_version": "1.5.0",
          "state": {
            "_dom_classes": [],
            "_model_module": "@jupyter-widgets/controls",
            "_model_module_version": "1.5.0",
            "_model_name": "HTMLModel",
            "_view_count": null,
            "_view_module": "@jupyter-widgets/controls",
            "_view_module_version": "1.5.0",
            "_view_name": "HTMLView",
            "description": "",
            "description_tooltip": null,
            "layout": "IPY_MODEL_d477b1cf4e4a4a839c57b142d7ce5d87",
            "placeholder": "​",
            "style": "IPY_MODEL_549ff48e929648ceaddde9284d8afb2d",
            "value": " 629/629 [00:00&lt;00:00, 32.1kB/s]"
          }
        },
        "aba8e26eab7a4af4be86bbbccfd13bdc": {
          "model_module": "@jupyter-widgets/base",
          "model_name": "LayoutModel",
          "model_module_version": "1.2.0",
          "state": {
            "_model_module": "@jupyter-widgets/base",
            "_model_module_version": "1.2.0",
            "_model_name": "LayoutModel",
            "_view_count": null,
            "_view_module": "@jupyter-widgets/base",
            "_view_module_version": "1.2.0",
            "_view_name": "LayoutView",
            "align_content": null,
            "align_items": null,
            "align_self": null,
            "border": null,
            "bottom": null,
            "display": null,
            "flex": null,
            "flex_flow": null,
            "grid_area": null,
            "grid_auto_columns": null,
            "grid_auto_flow": null,
            "grid_auto_rows": null,
            "grid_column": null,
            "grid_gap": null,
            "grid_row": null,
            "grid_template_areas": null,
            "grid_template_columns": null,
            "grid_template_rows": null,
            "height": null,
            "justify_content": null,
            "justify_items": null,
            "left": null,
            "margin": null,
            "max_height": null,
            "max_width": null,
            "min_height": null,
            "min_width": null,
            "object_fit": null,
            "object_position": null,
            "order": null,
            "overflow": null,
            "overflow_x": null,
            "overflow_y": null,
            "padding": null,
            "right": null,
            "top": null,
            "visibility": null,
            "width": null
          }
        },
        "a58ac398f9c64320ba07557f7a96565a": {
          "model_module": "@jupyter-widgets/base",
          "model_name": "LayoutModel",
          "model_module_version": "1.2.0",
          "state": {
            "_model_module": "@jupyter-widgets/base",
            "_model_module_version": "1.2.0",
            "_model_name": "LayoutModel",
            "_view_count": null,
            "_view_module": "@jupyter-widgets/base",
            "_view_module_version": "1.2.0",
            "_view_name": "LayoutView",
            "align_content": null,
            "align_items": null,
            "align_self": null,
            "border": null,
            "bottom": null,
            "display": null,
            "flex": null,
            "flex_flow": null,
            "grid_area": null,
            "grid_auto_columns": null,
            "grid_auto_flow": null,
            "grid_auto_rows": null,
            "grid_column": null,
            "grid_gap": null,
            "grid_row": null,
            "grid_template_areas": null,
            "grid_template_columns": null,
            "grid_template_rows": null,
            "height": null,
            "justify_content": null,
            "justify_items": null,
            "left": null,
            "margin": null,
            "max_height": null,
            "max_width": null,
            "min_height": null,
            "min_width": null,
            "object_fit": null,
            "object_position": null,
            "order": null,
            "overflow": null,
            "overflow_x": null,
            "overflow_y": null,
            "padding": null,
            "right": null,
            "top": null,
            "visibility": null,
            "width": null
          }
        },
        "756a202f777c482188288f4a34fa1a51": {
          "model_module": "@jupyter-widgets/controls",
          "model_name": "DescriptionStyleModel",
          "model_module_version": "1.5.0",
          "state": {
            "_model_module": "@jupyter-widgets/controls",
            "_model_module_version": "1.5.0",
            "_model_name": "DescriptionStyleModel",
            "_view_count": null,
            "_view_module": "@jupyter-widgets/base",
            "_view_module_version": "1.2.0",
            "_view_name": "StyleView",
            "description_width": ""
          }
        },
        "5ba341d456b6447a9ecf16fbe838baff": {
          "model_module": "@jupyter-widgets/base",
          "model_name": "LayoutModel",
          "model_module_version": "1.2.0",
          "state": {
            "_model_module": "@jupyter-widgets/base",
            "_model_module_version": "1.2.0",
            "_model_name": "LayoutModel",
            "_view_count": null,
            "_view_module": "@jupyter-widgets/base",
            "_view_module_version": "1.2.0",
            "_view_name": "LayoutView",
            "align_content": null,
            "align_items": null,
            "align_self": null,
            "border": null,
            "bottom": null,
            "display": null,
            "flex": null,
            "flex_flow": null,
            "grid_area": null,
            "grid_auto_columns": null,
            "grid_auto_flow": null,
            "grid_auto_rows": null,
            "grid_column": null,
            "grid_gap": null,
            "grid_row": null,
            "grid_template_areas": null,
            "grid_template_columns": null,
            "grid_template_rows": null,
            "height": null,
            "justify_content": null,
            "justify_items": null,
            "left": null,
            "margin": null,
            "max_height": null,
            "max_width": null,
            "min_height": null,
            "min_width": null,
            "object_fit": null,
            "object_position": null,
            "order": null,
            "overflow": null,
            "overflow_x": null,
            "overflow_y": null,
            "padding": null,
            "right": null,
            "top": null,
            "visibility": null,
            "width": null
          }
        },
        "38c1231326684a4cb7c5a56e951a008b": {
          "model_module": "@jupyter-widgets/controls",
          "model_name": "ProgressStyleModel",
          "model_module_version": "1.5.0",
          "state": {
            "_model_module": "@jupyter-widgets/controls",
            "_model_module_version": "1.5.0",
            "_model_name": "ProgressStyleModel",
            "_view_count": null,
            "_view_module": "@jupyter-widgets/base",
            "_view_module_version": "1.2.0",
            "_view_name": "StyleView",
            "bar_color": null,
            "description_width": ""
          }
        },
        "d477b1cf4e4a4a839c57b142d7ce5d87": {
          "model_module": "@jupyter-widgets/base",
          "model_name": "LayoutModel",
          "model_module_version": "1.2.0",
          "state": {
            "_model_module": "@jupyter-widgets/base",
            "_model_module_version": "1.2.0",
            "_model_name": "LayoutModel",
            "_view_count": null,
            "_view_module": "@jupyter-widgets/base",
            "_view_module_version": "1.2.0",
            "_view_name": "LayoutView",
            "align_content": null,
            "align_items": null,
            "align_self": null,
            "border": null,
            "bottom": null,
            "display": null,
            "flex": null,
            "flex_flow": null,
            "grid_area": null,
            "grid_auto_columns": null,
            "grid_auto_flow": null,
            "grid_auto_rows": null,
            "grid_column": null,
            "grid_gap": null,
            "grid_row": null,
            "grid_template_areas": null,
            "grid_template_columns": null,
            "grid_template_rows": null,
            "height": null,
            "justify_content": null,
            "justify_items": null,
            "left": null,
            "margin": null,
            "max_height": null,
            "max_width": null,
            "min_height": null,
            "min_width": null,
            "object_fit": null,
            "object_position": null,
            "order": null,
            "overflow": null,
            "overflow_x": null,
            "overflow_y": null,
            "padding": null,
            "right": null,
            "top": null,
            "visibility": null,
            "width": null
          }
        },
        "549ff48e929648ceaddde9284d8afb2d": {
          "model_module": "@jupyter-widgets/controls",
          "model_name": "DescriptionStyleModel",
          "model_module_version": "1.5.0",
          "state": {
            "_model_module": "@jupyter-widgets/controls",
            "_model_module_version": "1.5.0",
            "_model_name": "DescriptionStyleModel",
            "_view_count": null,
            "_view_module": "@jupyter-widgets/base",
            "_view_module_version": "1.2.0",
            "_view_name": "StyleView",
            "description_width": ""
          }
        },
        "bd517b5049ee44b689fb3c63192d260d": {
          "model_module": "@jupyter-widgets/controls",
          "model_name": "HBoxModel",
          "model_module_version": "1.5.0",
          "state": {
            "_dom_classes": [],
            "_model_module": "@jupyter-widgets/controls",
            "_model_module_version": "1.5.0",
            "_model_name": "HBoxModel",
            "_view_count": null,
            "_view_module": "@jupyter-widgets/controls",
            "_view_module_version": "1.5.0",
            "_view_name": "HBoxView",
            "box_style": "",
            "children": [
              "IPY_MODEL_4280f9a11b434166bc99dcfdcc2fdc0e",
              "IPY_MODEL_273e563efe174a56861315dc36c9e1b3",
              "IPY_MODEL_0a4a06dd658e47c19a0a35bbcb07f937"
            ],
            "layout": "IPY_MODEL_4e6f61d3cbac4af8b1bf09bd8567dff5"
          }
        },
        "4280f9a11b434166bc99dcfdcc2fdc0e": {
          "model_module": "@jupyter-widgets/controls",
          "model_name": "HTMLModel",
          "model_module_version": "1.5.0",
          "state": {
            "_dom_classes": [],
            "_model_module": "@jupyter-widgets/controls",
            "_model_module_version": "1.5.0",
            "_model_name": "HTMLModel",
            "_view_count": null,
            "_view_module": "@jupyter-widgets/controls",
            "_view_module_version": "1.5.0",
            "_view_name": "HTMLView",
            "description": "",
            "description_tooltip": null,
            "layout": "IPY_MODEL_54c8ce3138d54fb6be2be847e0f3db54",
            "placeholder": "​",
            "style": "IPY_MODEL_04965ae7c29a4f3ea739d16f0c99909a",
            "value": "model.safetensors: 100%"
          }
        },
        "273e563efe174a56861315dc36c9e1b3": {
          "model_module": "@jupyter-widgets/controls",
          "model_name": "FloatProgressModel",
          "model_module_version": "1.5.0",
          "state": {
            "_dom_classes": [],
            "_model_module": "@jupyter-widgets/controls",
            "_model_module_version": "1.5.0",
            "_model_name": "FloatProgressModel",
            "_view_count": null,
            "_view_module": "@jupyter-widgets/controls",
            "_view_module_version": "1.5.0",
            "_view_name": "ProgressView",
            "bar_style": "success",
            "description": "",
            "description_tooltip": null,
            "layout": "IPY_MODEL_764475248e1043079bdaa2360c8131a7",
            "max": 267832558,
            "min": 0,
            "orientation": "horizontal",
            "style": "IPY_MODEL_d44eb086ebab4a1b865e2080cc48c6e3",
            "value": 267832558
          }
        },
        "0a4a06dd658e47c19a0a35bbcb07f937": {
          "model_module": "@jupyter-widgets/controls",
          "model_name": "HTMLModel",
          "model_module_version": "1.5.0",
          "state": {
            "_dom_classes": [],
            "_model_module": "@jupyter-widgets/controls",
            "_model_module_version": "1.5.0",
            "_model_name": "HTMLModel",
            "_view_count": null,
            "_view_module": "@jupyter-widgets/controls",
            "_view_module_version": "1.5.0",
            "_view_name": "HTMLView",
            "description": "",
            "description_tooltip": null,
            "layout": "IPY_MODEL_1fd8d9a392b54a6d854eed9c73be226a",
            "placeholder": "​",
            "style": "IPY_MODEL_2d22400d38bd4581980e64d775b2550c",
            "value": " 268M/268M [00:01&lt;00:00, 243MB/s]"
          }
        },
        "4e6f61d3cbac4af8b1bf09bd8567dff5": {
          "model_module": "@jupyter-widgets/base",
          "model_name": "LayoutModel",
          "model_module_version": "1.2.0",
          "state": {
            "_model_module": "@jupyter-widgets/base",
            "_model_module_version": "1.2.0",
            "_model_name": "LayoutModel",
            "_view_count": null,
            "_view_module": "@jupyter-widgets/base",
            "_view_module_version": "1.2.0",
            "_view_name": "LayoutView",
            "align_content": null,
            "align_items": null,
            "align_self": null,
            "border": null,
            "bottom": null,
            "display": null,
            "flex": null,
            "flex_flow": null,
            "grid_area": null,
            "grid_auto_columns": null,
            "grid_auto_flow": null,
            "grid_auto_rows": null,
            "grid_column": null,
            "grid_gap": null,
            "grid_row": null,
            "grid_template_areas": null,
            "grid_template_columns": null,
            "grid_template_rows": null,
            "height": null,
            "justify_content": null,
            "justify_items": null,
            "left": null,
            "margin": null,
            "max_height": null,
            "max_width": null,
            "min_height": null,
            "min_width": null,
            "object_fit": null,
            "object_position": null,
            "order": null,
            "overflow": null,
            "overflow_x": null,
            "overflow_y": null,
            "padding": null,
            "right": null,
            "top": null,
            "visibility": null,
            "width": null
          }
        },
        "54c8ce3138d54fb6be2be847e0f3db54": {
          "model_module": "@jupyter-widgets/base",
          "model_name": "LayoutModel",
          "model_module_version": "1.2.0",
          "state": {
            "_model_module": "@jupyter-widgets/base",
            "_model_module_version": "1.2.0",
            "_model_name": "LayoutModel",
            "_view_count": null,
            "_view_module": "@jupyter-widgets/base",
            "_view_module_version": "1.2.0",
            "_view_name": "LayoutView",
            "align_content": null,
            "align_items": null,
            "align_self": null,
            "border": null,
            "bottom": null,
            "display": null,
            "flex": null,
            "flex_flow": null,
            "grid_area": null,
            "grid_auto_columns": null,
            "grid_auto_flow": null,
            "grid_auto_rows": null,
            "grid_column": null,
            "grid_gap": null,
            "grid_row": null,
            "grid_template_areas": null,
            "grid_template_columns": null,
            "grid_template_rows": null,
            "height": null,
            "justify_content": null,
            "justify_items": null,
            "left": null,
            "margin": null,
            "max_height": null,
            "max_width": null,
            "min_height": null,
            "min_width": null,
            "object_fit": null,
            "object_position": null,
            "order": null,
            "overflow": null,
            "overflow_x": null,
            "overflow_y": null,
            "padding": null,
            "right": null,
            "top": null,
            "visibility": null,
            "width": null
          }
        },
        "04965ae7c29a4f3ea739d16f0c99909a": {
          "model_module": "@jupyter-widgets/controls",
          "model_name": "DescriptionStyleModel",
          "model_module_version": "1.5.0",
          "state": {
            "_model_module": "@jupyter-widgets/controls",
            "_model_module_version": "1.5.0",
            "_model_name": "DescriptionStyleModel",
            "_view_count": null,
            "_view_module": "@jupyter-widgets/base",
            "_view_module_version": "1.2.0",
            "_view_name": "StyleView",
            "description_width": ""
          }
        },
        "764475248e1043079bdaa2360c8131a7": {
          "model_module": "@jupyter-widgets/base",
          "model_name": "LayoutModel",
          "model_module_version": "1.2.0",
          "state": {
            "_model_module": "@jupyter-widgets/base",
            "_model_module_version": "1.2.0",
            "_model_name": "LayoutModel",
            "_view_count": null,
            "_view_module": "@jupyter-widgets/base",
            "_view_module_version": "1.2.0",
            "_view_name": "LayoutView",
            "align_content": null,
            "align_items": null,
            "align_self": null,
            "border": null,
            "bottom": null,
            "display": null,
            "flex": null,
            "flex_flow": null,
            "grid_area": null,
            "grid_auto_columns": null,
            "grid_auto_flow": null,
            "grid_auto_rows": null,
            "grid_column": null,
            "grid_gap": null,
            "grid_row": null,
            "grid_template_areas": null,
            "grid_template_columns": null,
            "grid_template_rows": null,
            "height": null,
            "justify_content": null,
            "justify_items": null,
            "left": null,
            "margin": null,
            "max_height": null,
            "max_width": null,
            "min_height": null,
            "min_width": null,
            "object_fit": null,
            "object_position": null,
            "order": null,
            "overflow": null,
            "overflow_x": null,
            "overflow_y": null,
            "padding": null,
            "right": null,
            "top": null,
            "visibility": null,
            "width": null
          }
        },
        "d44eb086ebab4a1b865e2080cc48c6e3": {
          "model_module": "@jupyter-widgets/controls",
          "model_name": "ProgressStyleModel",
          "model_module_version": "1.5.0",
          "state": {
            "_model_module": "@jupyter-widgets/controls",
            "_model_module_version": "1.5.0",
            "_model_name": "ProgressStyleModel",
            "_view_count": null,
            "_view_module": "@jupyter-widgets/base",
            "_view_module_version": "1.2.0",
            "_view_name": "StyleView",
            "bar_color": null,
            "description_width": ""
          }
        },
        "1fd8d9a392b54a6d854eed9c73be226a": {
          "model_module": "@jupyter-widgets/base",
          "model_name": "LayoutModel",
          "model_module_version": "1.2.0",
          "state": {
            "_model_module": "@jupyter-widgets/base",
            "_model_module_version": "1.2.0",
            "_model_name": "LayoutModel",
            "_view_count": null,
            "_view_module": "@jupyter-widgets/base",
            "_view_module_version": "1.2.0",
            "_view_name": "LayoutView",
            "align_content": null,
            "align_items": null,
            "align_self": null,
            "border": null,
            "bottom": null,
            "display": null,
            "flex": null,
            "flex_flow": null,
            "grid_area": null,
            "grid_auto_columns": null,
            "grid_auto_flow": null,
            "grid_auto_rows": null,
            "grid_column": null,
            "grid_gap": null,
            "grid_row": null,
            "grid_template_areas": null,
            "grid_template_columns": null,
            "grid_template_rows": null,
            "height": null,
            "justify_content": null,
            "justify_items": null,
            "left": null,
            "margin": null,
            "max_height": null,
            "max_width": null,
            "min_height": null,
            "min_width": null,
            "object_fit": null,
            "object_position": null,
            "order": null,
            "overflow": null,
            "overflow_x": null,
            "overflow_y": null,
            "padding": null,
            "right": null,
            "top": null,
            "visibility": null,
            "width": null
          }
        },
        "2d22400d38bd4581980e64d775b2550c": {
          "model_module": "@jupyter-widgets/controls",
          "model_name": "DescriptionStyleModel",
          "model_module_version": "1.5.0",
          "state": {
            "_model_module": "@jupyter-widgets/controls",
            "_model_module_version": "1.5.0",
            "_model_name": "DescriptionStyleModel",
            "_view_count": null,
            "_view_module": "@jupyter-widgets/base",
            "_view_module_version": "1.2.0",
            "_view_name": "StyleView",
            "description_width": ""
          }
        },
        "05f934b1ad794b959a16eb41c5163f80": {
          "model_module": "@jupyter-widgets/controls",
          "model_name": "HBoxModel",
          "model_module_version": "1.5.0",
          "state": {
            "_dom_classes": [],
            "_model_module": "@jupyter-widgets/controls",
            "_model_module_version": "1.5.0",
            "_model_name": "HBoxModel",
            "_view_count": null,
            "_view_module": "@jupyter-widgets/controls",
            "_view_module_version": "1.5.0",
            "_view_name": "HBoxView",
            "box_style": "",
            "children": [
              "IPY_MODEL_5a1dae98631b452197e055e58d8f0ef1",
              "IPY_MODEL_71c98711e8ed432db760ed444b3f54f2",
              "IPY_MODEL_e931996f6ff549ed8515baae254b1adc"
            ],
            "layout": "IPY_MODEL_13185dcc79444c69b4f586928a8cd1db"
          }
        },
        "5a1dae98631b452197e055e58d8f0ef1": {
          "model_module": "@jupyter-widgets/controls",
          "model_name": "HTMLModel",
          "model_module_version": "1.5.0",
          "state": {
            "_dom_classes": [],
            "_model_module": "@jupyter-widgets/controls",
            "_model_module_version": "1.5.0",
            "_model_name": "HTMLModel",
            "_view_count": null,
            "_view_module": "@jupyter-widgets/controls",
            "_view_module_version": "1.5.0",
            "_view_name": "HTMLView",
            "description": "",
            "description_tooltip": null,
            "layout": "IPY_MODEL_16c2524c720f4e47afd131953e945377",
            "placeholder": "​",
            "style": "IPY_MODEL_12278a6a197d4dd185c166ad1c091b34",
            "value": "tokenizer_config.json: 100%"
          }
        },
        "71c98711e8ed432db760ed444b3f54f2": {
          "model_module": "@jupyter-widgets/controls",
          "model_name": "FloatProgressModel",
          "model_module_version": "1.5.0",
          "state": {
            "_dom_classes": [],
            "_model_module": "@jupyter-widgets/controls",
            "_model_module_version": "1.5.0",
            "_model_name": "FloatProgressModel",
            "_view_count": null,
            "_view_module": "@jupyter-widgets/controls",
            "_view_module_version": "1.5.0",
            "_view_name": "ProgressView",
            "bar_style": "success",
            "description": "",
            "description_tooltip": null,
            "layout": "IPY_MODEL_6d7a13e3835b45bcaf817a8dd340f592",
            "max": 48,
            "min": 0,
            "orientation": "horizontal",
            "style": "IPY_MODEL_b2f5a9f2935746438ca00379e8e33f1e",
            "value": 48
          }
        },
        "e931996f6ff549ed8515baae254b1adc": {
          "model_module": "@jupyter-widgets/controls",
          "model_name": "HTMLModel",
          "model_module_version": "1.5.0",
          "state": {
            "_dom_classes": [],
            "_model_module": "@jupyter-widgets/controls",
            "_model_module_version": "1.5.0",
            "_model_name": "HTMLModel",
            "_view_count": null,
            "_view_module": "@jupyter-widgets/controls",
            "_view_module_version": "1.5.0",
            "_view_name": "HTMLView",
            "description": "",
            "description_tooltip": null,
            "layout": "IPY_MODEL_df7f9273569c4b0fb17442d3eff9f02f",
            "placeholder": "​",
            "style": "IPY_MODEL_03e5da90de6145048cc87c58e0eac23d",
            "value": " 48.0/48.0 [00:00&lt;00:00, 3.90kB/s]"
          }
        },
        "13185dcc79444c69b4f586928a8cd1db": {
          "model_module": "@jupyter-widgets/base",
          "model_name": "LayoutModel",
          "model_module_version": "1.2.0",
          "state": {
            "_model_module": "@jupyter-widgets/base",
            "_model_module_version": "1.2.0",
            "_model_name": "LayoutModel",
            "_view_count": null,
            "_view_module": "@jupyter-widgets/base",
            "_view_module_version": "1.2.0",
            "_view_name": "LayoutView",
            "align_content": null,
            "align_items": null,
            "align_self": null,
            "border": null,
            "bottom": null,
            "display": null,
            "flex": null,
            "flex_flow": null,
            "grid_area": null,
            "grid_auto_columns": null,
            "grid_auto_flow": null,
            "grid_auto_rows": null,
            "grid_column": null,
            "grid_gap": null,
            "grid_row": null,
            "grid_template_areas": null,
            "grid_template_columns": null,
            "grid_template_rows": null,
            "height": null,
            "justify_content": null,
            "justify_items": null,
            "left": null,
            "margin": null,
            "max_height": null,
            "max_width": null,
            "min_height": null,
            "min_width": null,
            "object_fit": null,
            "object_position": null,
            "order": null,
            "overflow": null,
            "overflow_x": null,
            "overflow_y": null,
            "padding": null,
            "right": null,
            "top": null,
            "visibility": null,
            "width": null
          }
        },
        "16c2524c720f4e47afd131953e945377": {
          "model_module": "@jupyter-widgets/base",
          "model_name": "LayoutModel",
          "model_module_version": "1.2.0",
          "state": {
            "_model_module": "@jupyter-widgets/base",
            "_model_module_version": "1.2.0",
            "_model_name": "LayoutModel",
            "_view_count": null,
            "_view_module": "@jupyter-widgets/base",
            "_view_module_version": "1.2.0",
            "_view_name": "LayoutView",
            "align_content": null,
            "align_items": null,
            "align_self": null,
            "border": null,
            "bottom": null,
            "display": null,
            "flex": null,
            "flex_flow": null,
            "grid_area": null,
            "grid_auto_columns": null,
            "grid_auto_flow": null,
            "grid_auto_rows": null,
            "grid_column": null,
            "grid_gap": null,
            "grid_row": null,
            "grid_template_areas": null,
            "grid_template_columns": null,
            "grid_template_rows": null,
            "height": null,
            "justify_content": null,
            "justify_items": null,
            "left": null,
            "margin": null,
            "max_height": null,
            "max_width": null,
            "min_height": null,
            "min_width": null,
            "object_fit": null,
            "object_position": null,
            "order": null,
            "overflow": null,
            "overflow_x": null,
            "overflow_y": null,
            "padding": null,
            "right": null,
            "top": null,
            "visibility": null,
            "width": null
          }
        },
        "12278a6a197d4dd185c166ad1c091b34": {
          "model_module": "@jupyter-widgets/controls",
          "model_name": "DescriptionStyleModel",
          "model_module_version": "1.5.0",
          "state": {
            "_model_module": "@jupyter-widgets/controls",
            "_model_module_version": "1.5.0",
            "_model_name": "DescriptionStyleModel",
            "_view_count": null,
            "_view_module": "@jupyter-widgets/base",
            "_view_module_version": "1.2.0",
            "_view_name": "StyleView",
            "description_width": ""
          }
        },
        "6d7a13e3835b45bcaf817a8dd340f592": {
          "model_module": "@jupyter-widgets/base",
          "model_name": "LayoutModel",
          "model_module_version": "1.2.0",
          "state": {
            "_model_module": "@jupyter-widgets/base",
            "_model_module_version": "1.2.0",
            "_model_name": "LayoutModel",
            "_view_count": null,
            "_view_module": "@jupyter-widgets/base",
            "_view_module_version": "1.2.0",
            "_view_name": "LayoutView",
            "align_content": null,
            "align_items": null,
            "align_self": null,
            "border": null,
            "bottom": null,
            "display": null,
            "flex": null,
            "flex_flow": null,
            "grid_area": null,
            "grid_auto_columns": null,
            "grid_auto_flow": null,
            "grid_auto_rows": null,
            "grid_column": null,
            "grid_gap": null,
            "grid_row": null,
            "grid_template_areas": null,
            "grid_template_columns": null,
            "grid_template_rows": null,
            "height": null,
            "justify_content": null,
            "justify_items": null,
            "left": null,
            "margin": null,
            "max_height": null,
            "max_width": null,
            "min_height": null,
            "min_width": null,
            "object_fit": null,
            "object_position": null,
            "order": null,
            "overflow": null,
            "overflow_x": null,
            "overflow_y": null,
            "padding": null,
            "right": null,
            "top": null,
            "visibility": null,
            "width": null
          }
        },
        "b2f5a9f2935746438ca00379e8e33f1e": {
          "model_module": "@jupyter-widgets/controls",
          "model_name": "ProgressStyleModel",
          "model_module_version": "1.5.0",
          "state": {
            "_model_module": "@jupyter-widgets/controls",
            "_model_module_version": "1.5.0",
            "_model_name": "ProgressStyleModel",
            "_view_count": null,
            "_view_module": "@jupyter-widgets/base",
            "_view_module_version": "1.2.0",
            "_view_name": "StyleView",
            "bar_color": null,
            "description_width": ""
          }
        },
        "df7f9273569c4b0fb17442d3eff9f02f": {
          "model_module": "@jupyter-widgets/base",
          "model_name": "LayoutModel",
          "model_module_version": "1.2.0",
          "state": {
            "_model_module": "@jupyter-widgets/base",
            "_model_module_version": "1.2.0",
            "_model_name": "LayoutModel",
            "_view_count": null,
            "_view_module": "@jupyter-widgets/base",
            "_view_module_version": "1.2.0",
            "_view_name": "LayoutView",
            "align_content": null,
            "align_items": null,
            "align_self": null,
            "border": null,
            "bottom": null,
            "display": null,
            "flex": null,
            "flex_flow": null,
            "grid_area": null,
            "grid_auto_columns": null,
            "grid_auto_flow": null,
            "grid_auto_rows": null,
            "grid_column": null,
            "grid_gap": null,
            "grid_row": null,
            "grid_template_areas": null,
            "grid_template_columns": null,
            "grid_template_rows": null,
            "height": null,
            "justify_content": null,
            "justify_items": null,
            "left": null,
            "margin": null,
            "max_height": null,
            "max_width": null,
            "min_height": null,
            "min_width": null,
            "object_fit": null,
            "object_position": null,
            "order": null,
            "overflow": null,
            "overflow_x": null,
            "overflow_y": null,
            "padding": null,
            "right": null,
            "top": null,
            "visibility": null,
            "width": null
          }
        },
        "03e5da90de6145048cc87c58e0eac23d": {
          "model_module": "@jupyter-widgets/controls",
          "model_name": "DescriptionStyleModel",
          "model_module_version": "1.5.0",
          "state": {
            "_model_module": "@jupyter-widgets/controls",
            "_model_module_version": "1.5.0",
            "_model_name": "DescriptionStyleModel",
            "_view_count": null,
            "_view_module": "@jupyter-widgets/base",
            "_view_module_version": "1.2.0",
            "_view_name": "StyleView",
            "description_width": ""
          }
        },
        "a36eea0554dd4fd98a0190f44f7c8229": {
          "model_module": "@jupyter-widgets/controls",
          "model_name": "HBoxModel",
          "model_module_version": "1.5.0",
          "state": {
            "_dom_classes": [],
            "_model_module": "@jupyter-widgets/controls",
            "_model_module_version": "1.5.0",
            "_model_name": "HBoxModel",
            "_view_count": null,
            "_view_module": "@jupyter-widgets/controls",
            "_view_module_version": "1.5.0",
            "_view_name": "HBoxView",
            "box_style": "",
            "children": [
              "IPY_MODEL_c7277bbd638b4166991f2ba689d53e7e",
              "IPY_MODEL_a464f9959c8c47d3b1a8c335c23caa2c",
              "IPY_MODEL_8f9399b3644c433daab822460cae7c94"
            ],
            "layout": "IPY_MODEL_88ffc479be8d47d58052819528377fb8"
          }
        },
        "c7277bbd638b4166991f2ba689d53e7e": {
          "model_module": "@jupyter-widgets/controls",
          "model_name": "HTMLModel",
          "model_module_version": "1.5.0",
          "state": {
            "_dom_classes": [],
            "_model_module": "@jupyter-widgets/controls",
            "_model_module_version": "1.5.0",
            "_model_name": "HTMLModel",
            "_view_count": null,
            "_view_module": "@jupyter-widgets/controls",
            "_view_module_version": "1.5.0",
            "_view_name": "HTMLView",
            "description": "",
            "description_tooltip": null,
            "layout": "IPY_MODEL_0a97d1eb54104a9e8c0540f6e5cbc237",
            "placeholder": "​",
            "style": "IPY_MODEL_f109ebeba9e44ed5bdc23b4d6e065da9",
            "value": "vocab.txt: 100%"
          }
        },
        "a464f9959c8c47d3b1a8c335c23caa2c": {
          "model_module": "@jupyter-widgets/controls",
          "model_name": "FloatProgressModel",
          "model_module_version": "1.5.0",
          "state": {
            "_dom_classes": [],
            "_model_module": "@jupyter-widgets/controls",
            "_model_module_version": "1.5.0",
            "_model_name": "FloatProgressModel",
            "_view_count": null,
            "_view_module": "@jupyter-widgets/controls",
            "_view_module_version": "1.5.0",
            "_view_name": "ProgressView",
            "bar_style": "success",
            "description": "",
            "description_tooltip": null,
            "layout": "IPY_MODEL_3d0c81d5425c45178b625f1fe052e957",
            "max": 231508,
            "min": 0,
            "orientation": "horizontal",
            "style": "IPY_MODEL_89edf9214a9347e1ba593e130c2a12ee",
            "value": 231508
          }
        },
        "8f9399b3644c433daab822460cae7c94": {
          "model_module": "@jupyter-widgets/controls",
          "model_name": "HTMLModel",
          "model_module_version": "1.5.0",
          "state": {
            "_dom_classes": [],
            "_model_module": "@jupyter-widgets/controls",
            "_model_module_version": "1.5.0",
            "_model_name": "HTMLModel",
            "_view_count": null,
            "_view_module": "@jupyter-widgets/controls",
            "_view_module_version": "1.5.0",
            "_view_name": "HTMLView",
            "description": "",
            "description_tooltip": null,
            "layout": "IPY_MODEL_4358e2f820d249fd9d43b2590d10df4d",
            "placeholder": "​",
            "style": "IPY_MODEL_38e31ee920144039ab7b3f89dcfdffc9",
            "value": " 232k/232k [00:00&lt;00:00, 1.82MB/s]"
          }
        },
        "88ffc479be8d47d58052819528377fb8": {
          "model_module": "@jupyter-widgets/base",
          "model_name": "LayoutModel",
          "model_module_version": "1.2.0",
          "state": {
            "_model_module": "@jupyter-widgets/base",
            "_model_module_version": "1.2.0",
            "_model_name": "LayoutModel",
            "_view_count": null,
            "_view_module": "@jupyter-widgets/base",
            "_view_module_version": "1.2.0",
            "_view_name": "LayoutView",
            "align_content": null,
            "align_items": null,
            "align_self": null,
            "border": null,
            "bottom": null,
            "display": null,
            "flex": null,
            "flex_flow": null,
            "grid_area": null,
            "grid_auto_columns": null,
            "grid_auto_flow": null,
            "grid_auto_rows": null,
            "grid_column": null,
            "grid_gap": null,
            "grid_row": null,
            "grid_template_areas": null,
            "grid_template_columns": null,
            "grid_template_rows": null,
            "height": null,
            "justify_content": null,
            "justify_items": null,
            "left": null,
            "margin": null,
            "max_height": null,
            "max_width": null,
            "min_height": null,
            "min_width": null,
            "object_fit": null,
            "object_position": null,
            "order": null,
            "overflow": null,
            "overflow_x": null,
            "overflow_y": null,
            "padding": null,
            "right": null,
            "top": null,
            "visibility": null,
            "width": null
          }
        },
        "0a97d1eb54104a9e8c0540f6e5cbc237": {
          "model_module": "@jupyter-widgets/base",
          "model_name": "LayoutModel",
          "model_module_version": "1.2.0",
          "state": {
            "_model_module": "@jupyter-widgets/base",
            "_model_module_version": "1.2.0",
            "_model_name": "LayoutModel",
            "_view_count": null,
            "_view_module": "@jupyter-widgets/base",
            "_view_module_version": "1.2.0",
            "_view_name": "LayoutView",
            "align_content": null,
            "align_items": null,
            "align_self": null,
            "border": null,
            "bottom": null,
            "display": null,
            "flex": null,
            "flex_flow": null,
            "grid_area": null,
            "grid_auto_columns": null,
            "grid_auto_flow": null,
            "grid_auto_rows": null,
            "grid_column": null,
            "grid_gap": null,
            "grid_row": null,
            "grid_template_areas": null,
            "grid_template_columns": null,
            "grid_template_rows": null,
            "height": null,
            "justify_content": null,
            "justify_items": null,
            "left": null,
            "margin": null,
            "max_height": null,
            "max_width": null,
            "min_height": null,
            "min_width": null,
            "object_fit": null,
            "object_position": null,
            "order": null,
            "overflow": null,
            "overflow_x": null,
            "overflow_y": null,
            "padding": null,
            "right": null,
            "top": null,
            "visibility": null,
            "width": null
          }
        },
        "f109ebeba9e44ed5bdc23b4d6e065da9": {
          "model_module": "@jupyter-widgets/controls",
          "model_name": "DescriptionStyleModel",
          "model_module_version": "1.5.0",
          "state": {
            "_model_module": "@jupyter-widgets/controls",
            "_model_module_version": "1.5.0",
            "_model_name": "DescriptionStyleModel",
            "_view_count": null,
            "_view_module": "@jupyter-widgets/base",
            "_view_module_version": "1.2.0",
            "_view_name": "StyleView",
            "description_width": ""
          }
        },
        "3d0c81d5425c45178b625f1fe052e957": {
          "model_module": "@jupyter-widgets/base",
          "model_name": "LayoutModel",
          "model_module_version": "1.2.0",
          "state": {
            "_model_module": "@jupyter-widgets/base",
            "_model_module_version": "1.2.0",
            "_model_name": "LayoutModel",
            "_view_count": null,
            "_view_module": "@jupyter-widgets/base",
            "_view_module_version": "1.2.0",
            "_view_name": "LayoutView",
            "align_content": null,
            "align_items": null,
            "align_self": null,
            "border": null,
            "bottom": null,
            "display": null,
            "flex": null,
            "flex_flow": null,
            "grid_area": null,
            "grid_auto_columns": null,
            "grid_auto_flow": null,
            "grid_auto_rows": null,
            "grid_column": null,
            "grid_gap": null,
            "grid_row": null,
            "grid_template_areas": null,
            "grid_template_columns": null,
            "grid_template_rows": null,
            "height": null,
            "justify_content": null,
            "justify_items": null,
            "left": null,
            "margin": null,
            "max_height": null,
            "max_width": null,
            "min_height": null,
            "min_width": null,
            "object_fit": null,
            "object_position": null,
            "order": null,
            "overflow": null,
            "overflow_x": null,
            "overflow_y": null,
            "padding": null,
            "right": null,
            "top": null,
            "visibility": null,
            "width": null
          }
        },
        "89edf9214a9347e1ba593e130c2a12ee": {
          "model_module": "@jupyter-widgets/controls",
          "model_name": "ProgressStyleModel",
          "model_module_version": "1.5.0",
          "state": {
            "_model_module": "@jupyter-widgets/controls",
            "_model_module_version": "1.5.0",
            "_model_name": "ProgressStyleModel",
            "_view_count": null,
            "_view_module": "@jupyter-widgets/base",
            "_view_module_version": "1.2.0",
            "_view_name": "StyleView",
            "bar_color": null,
            "description_width": ""
          }
        },
        "4358e2f820d249fd9d43b2590d10df4d": {
          "model_module": "@jupyter-widgets/base",
          "model_name": "LayoutModel",
          "model_module_version": "1.2.0",
          "state": {
            "_model_module": "@jupyter-widgets/base",
            "_model_module_version": "1.2.0",
            "_model_name": "LayoutModel",
            "_view_count": null,
            "_view_module": "@jupyter-widgets/base",
            "_view_module_version": "1.2.0",
            "_view_name": "LayoutView",
            "align_content": null,
            "align_items": null,
            "align_self": null,
            "border": null,
            "bottom": null,
            "display": null,
            "flex": null,
            "flex_flow": null,
            "grid_area": null,
            "grid_auto_columns": null,
            "grid_auto_flow": null,
            "grid_auto_rows": null,
            "grid_column": null,
            "grid_gap": null,
            "grid_row": null,
            "grid_template_areas": null,
            "grid_template_columns": null,
            "grid_template_rows": null,
            "height": null,
            "justify_content": null,
            "justify_items": null,
            "left": null,
            "margin": null,
            "max_height": null,
            "max_width": null,
            "min_height": null,
            "min_width": null,
            "object_fit": null,
            "object_position": null,
            "order": null,
            "overflow": null,
            "overflow_x": null,
            "overflow_y": null,
            "padding": null,
            "right": null,
            "top": null,
            "visibility": null,
            "width": null
          }
        },
        "38e31ee920144039ab7b3f89dcfdffc9": {
          "model_module": "@jupyter-widgets/controls",
          "model_name": "DescriptionStyleModel",
          "model_module_version": "1.5.0",
          "state": {
            "_model_module": "@jupyter-widgets/controls",
            "_model_module_version": "1.5.0",
            "_model_name": "DescriptionStyleModel",
            "_view_count": null,
            "_view_module": "@jupyter-widgets/base",
            "_view_module_version": "1.2.0",
            "_view_name": "StyleView",
            "description_width": ""
          }
        }
      }
    }
  },
  "cells": [
    {
      "cell_type": "code",
      "execution_count": 10,
      "metadata": {
        "colab": {
          "base_uri": "https://localhost:8080/"
        },
        "collapsed": true,
        "id": "U4QA-jS5wq9C",
        "outputId": "893ea8f1-585a-42ae-89bb-38cbd0e6e858"
      },
      "outputs": [
        {
          "output_type": "stream",
          "name": "stdout",
          "text": [
            "Requirement already satisfied: newsapi-python in /usr/local/lib/python3.11/dist-packages (0.2.7)\n",
            "Requirement already satisfied: requests<3.0.0 in /usr/local/lib/python3.11/dist-packages (from newsapi-python) (2.32.3)\n",
            "Requirement already satisfied: charset-normalizer<4,>=2 in /usr/local/lib/python3.11/dist-packages (from requests<3.0.0->newsapi-python) (3.4.1)\n",
            "Requirement already satisfied: idna<4,>=2.5 in /usr/local/lib/python3.11/dist-packages (from requests<3.0.0->newsapi-python) (3.10)\n",
            "Requirement already satisfied: urllib3<3,>=1.21.1 in /usr/local/lib/python3.11/dist-packages (from requests<3.0.0->newsapi-python) (2.3.0)\n",
            "Requirement already satisfied: certifi>=2017.4.17 in /usr/local/lib/python3.11/dist-packages (from requests<3.0.0->newsapi-python) (2024.12.14)\n"
          ]
        }
      ],
      "source": [
        "!pip install newsapi-python\n",
        "import yfinance as yf\n",
        "import requests\n",
        "import pandas as pd\n",
        "from newsapi import NewsApiClient # This should work now after installing the package"
      ]
    },
    {
      "cell_type": "code",
      "source": [
        "!pip install PyPDF2\n",
        "!pip install PyMuPDF # Install the PyPDF2 package\n",
        "import PyPDF2\n",
        "import fitz  # PyMuPDF"
      ],
      "metadata": {
        "colab": {
          "base_uri": "https://localhost:8080/"
        },
        "collapsed": true,
        "id": "Z21OOcZUxCp7",
        "outputId": "8261dd26-6ef6-478a-b09a-f1dcebcf10e6"
      },
      "execution_count": 11,
      "outputs": [
        {
          "output_type": "stream",
          "name": "stdout",
          "text": [
            "Requirement already satisfied: PyPDF2 in /usr/local/lib/python3.11/dist-packages (3.0.1)\n",
            "Requirement already satisfied: PyMuPDF in /usr/local/lib/python3.11/dist-packages (1.25.2)\n"
          ]
        }
      ]
    },
    {
      "cell_type": "code",
      "source": [
        "!pip install yfinance pandas numpy requests transformers PyPDF2 fitz scikit-learn matplotlib\n",
        "!pip install PyMuPDF\n"
      ],
      "metadata": {
        "colab": {
          "base_uri": "https://localhost:8080/"
        },
        "collapsed": true,
        "id": "1H0qO0Ogxtzc",
        "outputId": "52daf548-53c4-4183-9564-cfda2fa00645"
      },
      "execution_count": 12,
      "outputs": [
        {
          "output_type": "stream",
          "name": "stdout",
          "text": [
            "Requirement already satisfied: yfinance in /usr/local/lib/python3.11/dist-packages (0.2.52)\n",
            "Requirement already satisfied: pandas in /usr/local/lib/python3.11/dist-packages (2.2.2)\n",
            "Requirement already satisfied: numpy in /usr/local/lib/python3.11/dist-packages (1.26.4)\n",
            "Requirement already satisfied: requests in /usr/local/lib/python3.11/dist-packages (2.32.3)\n",
            "Requirement already satisfied: transformers in /usr/local/lib/python3.11/dist-packages (4.47.1)\n",
            "Requirement already satisfied: PyPDF2 in /usr/local/lib/python3.11/dist-packages (3.0.1)\n",
            "Requirement already satisfied: fitz in /usr/local/lib/python3.11/dist-packages (0.0.1.dev2)\n",
            "Requirement already satisfied: scikit-learn in /usr/local/lib/python3.11/dist-packages (1.6.1)\n",
            "Requirement already satisfied: matplotlib in /usr/local/lib/python3.11/dist-packages (3.10.0)\n",
            "Requirement already satisfied: multitasking>=0.0.7 in /usr/local/lib/python3.11/dist-packages (from yfinance) (0.0.11)\n",
            "Requirement already satisfied: lxml>=4.9.1 in /usr/local/lib/python3.11/dist-packages (from yfinance) (5.3.0)\n",
            "Requirement already satisfied: platformdirs>=2.0.0 in /usr/local/lib/python3.11/dist-packages (from yfinance) (4.3.6)\n",
            "Requirement already satisfied: pytz>=2022.5 in /usr/local/lib/python3.11/dist-packages (from yfinance) (2024.2)\n",
            "Requirement already satisfied: frozendict>=2.3.4 in /usr/local/lib/python3.11/dist-packages (from yfinance) (2.4.6)\n",
            "Requirement already satisfied: peewee>=3.16.2 in /usr/local/lib/python3.11/dist-packages (from yfinance) (3.17.8)\n",
            "Requirement already satisfied: beautifulsoup4>=4.11.1 in /usr/local/lib/python3.11/dist-packages (from yfinance) (4.12.3)\n",
            "Requirement already satisfied: html5lib>=1.1 in /usr/local/lib/python3.11/dist-packages (from yfinance) (1.1)\n",
            "Requirement already satisfied: python-dateutil>=2.8.2 in /usr/local/lib/python3.11/dist-packages (from pandas) (2.8.2)\n",
            "Requirement already satisfied: tzdata>=2022.7 in /usr/local/lib/python3.11/dist-packages (from pandas) (2025.1)\n",
            "Requirement already satisfied: charset-normalizer<4,>=2 in /usr/local/lib/python3.11/dist-packages (from requests) (3.4.1)\n",
            "Requirement already satisfied: idna<4,>=2.5 in /usr/local/lib/python3.11/dist-packages (from requests) (3.10)\n",
            "Requirement already satisfied: urllib3<3,>=1.21.1 in /usr/local/lib/python3.11/dist-packages (from requests) (2.3.0)\n",
            "Requirement already satisfied: certifi>=2017.4.17 in /usr/local/lib/python3.11/dist-packages (from requests) (2024.12.14)\n",
            "Requirement already satisfied: filelock in /usr/local/lib/python3.11/dist-packages (from transformers) (3.17.0)\n",
            "Requirement already satisfied: huggingface-hub<1.0,>=0.24.0 in /usr/local/lib/python3.11/dist-packages (from transformers) (0.27.1)\n",
            "Requirement already satisfied: packaging>=20.0 in /usr/local/lib/python3.11/dist-packages (from transformers) (24.2)\n",
            "Requirement already satisfied: pyyaml>=5.1 in /usr/local/lib/python3.11/dist-packages (from transformers) (6.0.2)\n",
            "Requirement already satisfied: regex!=2019.12.17 in /usr/local/lib/python3.11/dist-packages (from transformers) (2024.11.6)\n",
            "Requirement already satisfied: tokenizers<0.22,>=0.21 in /usr/local/lib/python3.11/dist-packages (from transformers) (0.21.0)\n",
            "Requirement already satisfied: safetensors>=0.4.1 in /usr/local/lib/python3.11/dist-packages (from transformers) (0.5.2)\n",
            "Requirement already satisfied: tqdm>=4.27 in /usr/local/lib/python3.11/dist-packages (from transformers) (4.67.1)\n",
            "Requirement already satisfied: configobj in /usr/local/lib/python3.11/dist-packages (from fitz) (5.0.9)\n",
            "Requirement already satisfied: configparser in /usr/local/lib/python3.11/dist-packages (from fitz) (7.1.0)\n",
            "Requirement already satisfied: httplib2 in /usr/local/lib/python3.11/dist-packages (from fitz) (0.22.0)\n",
            "Requirement already satisfied: nibabel in /usr/local/lib/python3.11/dist-packages (from fitz) (5.3.2)\n",
            "Requirement already satisfied: nipype in /usr/local/lib/python3.11/dist-packages (from fitz) (1.9.2)\n",
            "Requirement already satisfied: pyxnat in /usr/local/lib/python3.11/dist-packages (from fitz) (1.6.2)\n",
            "Requirement already satisfied: scipy in /usr/local/lib/python3.11/dist-packages (from fitz) (1.13.1)\n",
            "Requirement already satisfied: joblib>=1.2.0 in /usr/local/lib/python3.11/dist-packages (from scikit-learn) (1.4.2)\n",
            "Requirement already satisfied: threadpoolctl>=3.1.0 in /usr/local/lib/python3.11/dist-packages (from scikit-learn) (3.5.0)\n",
            "Requirement already satisfied: contourpy>=1.0.1 in /usr/local/lib/python3.11/dist-packages (from matplotlib) (1.3.1)\n",
            "Requirement already satisfied: cycler>=0.10 in /usr/local/lib/python3.11/dist-packages (from matplotlib) (0.12.1)\n",
            "Requirement already satisfied: fonttools>=4.22.0 in /usr/local/lib/python3.11/dist-packages (from matplotlib) (4.55.4)\n",
            "Requirement already satisfied: kiwisolver>=1.3.1 in /usr/local/lib/python3.11/dist-packages (from matplotlib) (1.4.8)\n",
            "Requirement already satisfied: pillow>=8 in /usr/local/lib/python3.11/dist-packages (from matplotlib) (11.1.0)\n",
            "Requirement already satisfied: pyparsing>=2.3.1 in /usr/local/lib/python3.11/dist-packages (from matplotlib) (3.2.1)\n",
            "Requirement already satisfied: soupsieve>1.2 in /usr/local/lib/python3.11/dist-packages (from beautifulsoup4>=4.11.1->yfinance) (2.6)\n",
            "Requirement already satisfied: six>=1.9 in /usr/local/lib/python3.11/dist-packages (from html5lib>=1.1->yfinance) (1.17.0)\n",
            "Requirement already satisfied: webencodings in /usr/local/lib/python3.11/dist-packages (from html5lib>=1.1->yfinance) (0.5.1)\n",
            "Requirement already satisfied: fsspec>=2023.5.0 in /usr/local/lib/python3.11/dist-packages (from huggingface-hub<1.0,>=0.24.0->transformers) (2024.10.0)\n",
            "Requirement already satisfied: typing-extensions>=3.7.4.3 in /usr/local/lib/python3.11/dist-packages (from huggingface-hub<1.0,>=0.24.0->transformers) (4.12.2)\n",
            "Requirement already satisfied: importlib-resources>=5.12 in /usr/local/lib/python3.11/dist-packages (from nibabel->fitz) (6.5.2)\n",
            "Requirement already satisfied: click>=6.6.0 in /usr/local/lib/python3.11/dist-packages (from nipype->fitz) (8.1.8)\n",
            "Requirement already satisfied: networkx>=2.5 in /usr/local/lib/python3.11/dist-packages (from nipype->fitz) (3.4.2)\n",
            "Requirement already satisfied: prov>=1.5.2 in /usr/local/lib/python3.11/dist-packages (from nipype->fitz) (2.0.1)\n",
            "Requirement already satisfied: pydot>=1.2.3 in /usr/local/lib/python3.11/dist-packages (from nipype->fitz) (3.0.4)\n",
            "Requirement already satisfied: rdflib>=5.0.0 in /usr/local/lib/python3.11/dist-packages (from nipype->fitz) (6.3.2)\n",
            "Requirement already satisfied: simplejson>=3.8.0 in /usr/local/lib/python3.11/dist-packages (from nipype->fitz) (3.19.3)\n",
            "Requirement already satisfied: traits>=6.2 in /usr/local/lib/python3.11/dist-packages (from nipype->fitz) (7.0.2)\n",
            "Requirement already satisfied: acres in /usr/local/lib/python3.11/dist-packages (from nipype->fitz) (0.2.0)\n",
            "Requirement already satisfied: etelemetry>=0.3.1 in /usr/local/lib/python3.11/dist-packages (from nipype->fitz) (0.3.1)\n",
            "Requirement already satisfied: looseversion!=1.2 in /usr/local/lib/python3.11/dist-packages (from nipype->fitz) (1.3.0)\n",
            "Requirement already satisfied: puremagic in /usr/local/lib/python3.11/dist-packages (from nipype->fitz) (1.28)\n",
            "Requirement already satisfied: pathlib>=1.0 in /usr/local/lib/python3.11/dist-packages (from pyxnat->fitz) (1.0.1)\n",
            "Requirement already satisfied: ci-info>=0.2 in /usr/local/lib/python3.11/dist-packages (from etelemetry>=0.3.1->nipype->fitz) (0.3.0)\n",
            "Requirement already satisfied: isodate<0.7.0,>=0.6.0 in /usr/local/lib/python3.11/dist-packages (from rdflib>=5.0.0->nipype->fitz) (0.6.1)\n",
            "Requirement already satisfied: PyMuPDF in /usr/local/lib/python3.11/dist-packages (1.25.2)\n"
          ]
        }
      ]
    },
    {
      "cell_type": "code",
      "source": [
        "import yfinance as yf\n",
        "\n",
        "# List of 10 stocks\n",
        "stocks = [\"AAPL\", \"MSFT\", \"CSCO\", \"AMZN\", \"TSLA\", \"META\", \"NVDA\", \"INTC\", \"JPM\", \"V\"]\n",
        "\n",
        "# Fetch historical data\n",
        "def get_stock_data(stock, start_date, end_date):\n",
        "    stock_data = yf.download(stock, start=start_date, end=end_date)\n",
        "    return stock_data\n",
        "\n",
        "# Example: Get Apple stock data\n",
        "aapl_data = get_stock_data(\"AAPL\", \"2022-01-01\", \"2023-01-01\")\n",
        "print(aapl_data.head())\n"
      ],
      "metadata": {
        "colab": {
          "base_uri": "https://localhost:8080/"
        },
        "id": "ZZp87TNtAPNA",
        "outputId": "7d9a8957-dbc3-43a7-b1a5-8713407a8e21"
      },
      "execution_count": 13,
      "outputs": [
        {
          "output_type": "stream",
          "name": "stderr",
          "text": [
            "\r[*********************100%***********************]  1 of 1 completed"
          ]
        },
        {
          "output_type": "stream",
          "name": "stdout",
          "text": [
            "Price            Close        High         Low        Open     Volume\n",
            "Ticker            AAPL        AAPL        AAPL        AAPL       AAPL\n",
            "Date                                                                 \n",
            "2022-01-03  179.076569  179.932557  174.845883  174.963944  104487900\n",
            "2022-01-04  176.803818  179.991605  176.233164  179.686603   99310400\n",
            "2022-01-05  172.100830  177.266216  171.825344  176.715244   94537600\n",
            "2022-01-06  169.227936  172.474754  168.873737  169.916651   96904000\n",
            "2022-01-07  169.395187  171.333439  168.273561  170.103585   86709100\n"
          ]
        },
        {
          "output_type": "stream",
          "name": "stderr",
          "text": [
            "\n"
          ]
        }
      ]
    },
    {
      "cell_type": "code",
      "source": [
        "import requests\n",
        "\n",
        "API_KEY = \"P4PnobNLK9RlfEU6grgO28wFywT3hojD\"\n",
        "BASE_URL = \"https://financialmodelingprep.com/api/v3\"\n",
        "\n",
        "# Example: Get fundamental ratios for a stock\n",
        "def get_fundamental_ratios(stock):\n",
        "    url = f\"{BASE_URL}/ratios/{stock}?apikey={API_KEY}\"\n",
        "    response = requests.get(url)\n",
        "    return response.json()\n",
        "\n",
        "# Fetch data for Apple\n",
        "ratios = get_fundamental_ratios(\"AAPL\")\n",
        "print(ratios[:3])  # Show first 3 ratios\n"
      ],
      "metadata": {
        "colab": {
          "base_uri": "https://localhost:8080/"
        },
        "id": "dd_gGPtrAnQT",
        "outputId": "52c4ba31-d88b-4fe4-dc0a-e2139ba8f9c6"
      },
      "execution_count": 14,
      "outputs": [
        {
          "output_type": "stream",
          "name": "stdout",
          "text": [
            "[{'symbol': 'AAPL', 'date': '2024-09-28', 'calendarYear': '2024', 'period': 'FY', 'currentRatio': 0.8673125765340832, 'quickRatio': 0.8260068483831466, 'cashRatio': 0.16975259648963673, 'daysOfSalesOutstanding': 61.83255974529134, 'daysOfInventoryOutstanding': 12.642570548414087, 'operatingCycle': 74.47513029370543, 'daysOfPayablesOutstanding': 119.65847721913745, 'cashConversionCycle': -45.18334692543202, 'grossProfitMargin': 0.4620634981523393, 'operatingProfitMargin': 0.31510222870075566, 'pretaxProfitMargin': 0.3157901466620635, 'netProfitMargin': 0.23971255769943867, 'effectiveTaxRate': 0.24091185164189982, 'returnOnAssets': 0.25682503150857583, 'returnOnEquity': 1.6459350307287095, 'returnOnCapitalEmployed': 0.6533607652660827, 'netIncomePerEBT': 0.7590881483581001, 'ebtPerEbit': 1.0021831580314244, 'ebitPerRevenue': 0.31510222870075566, 'debtRatio': 0.29215025480848267, 'debtEquityRatio': 1.872326602282704, 'longTermDebtToCapitalization': 0.6009110021023125, 'totalDebtToCapitalization': 0.6518501763673821, 'interestCoverage': 0, 'cashFlowToDebtRatio': 1.109022873702276, 'companyEquityMultiplier': 6.408779631255487, 'receivablesTurnover': 5.903038811648023, 'payablesTurnover': 3.0503480278422272, 'inventoryTurnover': 28.870710952511665, 'fixedAssetTurnover': 8.560310858143607, 'assetTurnover': 1.0713874732862074, 'operatingCashFlowPerShare': 7.706965094592383, 'freeCashFlowPerShare': 7.091275991064264, 'cashPerShare': 4.247388013764271, 'payoutRatio': 0.16252026969360758, 'operatingCashFlowSalesRatio': 0.3024128274962599, 'freeCashFlowOperatingCashFlowRatio': 0.9201126388959359, 'cashFlowCoverageRatios': 1.109022873702276, 'shortTermCoverageRatios': 5.663777000814215, 'capitalExpenditureCoverageRatio': 12.517624642743728, 'dividendPaidAndCapexCoverageRatio': 4.7912969490701345, 'dividendPayoutRatio': 0.16252026969360758, 'priceBookValueRatio': 61.37243774486391, 'priceToBookRatio': 61.37243774486391, 'priceToSalesRatio': 8.93822887866815, 'priceEarningsRatio': 37.287278415656736, 'priceToFreeCashFlowsRatio': 32.12256867269569, 'priceToOperatingCashFlowsRatio': 29.55638142954995, 'priceCashFlowRatio': 29.55638142954995, 'priceEarningsToGrowthRatio': -45.93792700808932, 'priceSalesRatio': 8.93822887866815, 'dividendYield': 0.0043585983369965175, 'enterpriseValueMultiple': 26.524727497716487, 'priceFairValue': 61.37243774486391}, {'symbol': 'AAPL', 'date': '2023-09-30', 'calendarYear': '2023', 'period': 'FY', 'currentRatio': 0.9880116717592975, 'quickRatio': 0.9444421504665951, 'cashRatio': 0.20621713876730807, 'daysOfSalesOutstanding': 58.07564866874519, 'daysOfInventoryOutstanding': 10.791292490321617, 'operatingCycle': 68.8669411590668, 'daysOfPayablesOutstanding': 106.72146803214764, 'cashConversionCycle': -37.85452687308083, 'grossProfitMargin': 0.4413112957720756, 'operatingProfitMargin': 0.2982141226502472, 'pretaxProfitMargin': 0.296740023742124, 'netProfitMargin': 0.2530623426432028, 'effectiveTaxRate': 0.14719174228036858, 'returnOnAssets': 0.27509834563776475, 'returnOnEquity': 1.5607601454639075, 'returnOnCapitalEmployed': 0.551446146423833, 'netIncomePerEBT': 0.8528082577196314, 'ebtPerEbit': 0.9950569111381353, 'ebitPerRevenue': 0.2982141226502472, 'debtRatio': 0.3150690759338936, 'debtEquityRatio': 1.7875325845589418, 'longTermDebtToCapitalization': 0.6052392537493568, 'totalDebtToCapitalization': 0.6412597988847455, 'interestCoverage': 29.062039155860667, 'cashFlowToDebtRatio': 0.9950939795477459, 'companyEquityMultiplier': 5.673462491552152, 'receivablesTurnover': 6.284906124456834, 'payablesTurnover': 3.420117870661705, 'inventoryTurnover': 33.82356657716001, 'fixedAssetTurnover': 7.04878990731205, 'assetTurnover': 1.087077369016657, 'operatingCashFlowPerShare': 7.021174930677783, 'freeCashFlowPerShare': 6.325110448392176, 'cashPerShare': 3.9096860303942442, 'payoutRatio': 0.1549048920047425, 'operatingCashFlowSalesRatio': 0.28840940814276583, 'freeCashFlowOperatingCashFlowRatio': 0.9008621079579892, 'cashFlowCoverageRatios': 0.9950939795477459, 'shortTermCoverageRatios': 6.9932941102043396, 'capitalExpenditureCoverageRatio': 10.08696048909572, 'dividendPaidAndCapexCoverageRatio': 4.254271859605911, 'dividendPayoutRatio': 0.1549048920047425, 'priceBookValueRatio': 43.37479145093811, 'priceToBookRatio': 43.37479145093811, 'priceToSalesRatio': 7.032807935374461, 'priceEarningsRatio': 27.790811789370586, 'priceToFreeCashFlowsRatio': 27.06830203155125, 'priceToOperatingCashFlowsRatio': 24.384807626986785, 'priceCashFlowRatio': 24.384807626986785, 'priceEarningsToGrowthRatio': 170.91349250462116, 'priceSalesRatio': 7.032807935374461, 'dividendYield': 0.005573960673721321, 'enterpriseValueMultiple': 22.068771177157846, 'priceFairValue': 43.37479145093811}, {'symbol': 'AAPL', 'date': '2022-09-24', 'calendarYear': '2022', 'period': 'FY', 'currentRatio': 0.8793560286267226, 'quickRatio': 0.8472353911496149, 'cashRatio': 0.15356340351469652, 'daysOfSalesOutstanding': 56.400204905560855, 'daysOfInventoryOutstanding': 8.07569806661716, 'operatingCycle': 64.47590297217802, 'daysOfPayablesOutstanding': 104.6852773031054, 'cashConversionCycle': -40.209374330927375, 'grossProfitMargin': 0.43309630561360085, 'operatingProfitMargin': 0.30288744395528594, 'pretaxProfitMargin': 0.30204043334482966, 'netProfitMargin': 0.2530964070519973, 'effectiveTaxRate': 0.16204461684424407, 'returnOnAssets': 0.2829244092925685, 'returnOnEquity': 1.9695887275023682, 'returnOnCapitalEmployed': 0.6008713457059057, 'netIncomePerEBT': 0.8379553831557559, 'ebtPerEbit': 0.997203546639651, 'ebitPerRevenue': 0.30288744395528594, 'debtRatio': 0.37555810690139046, 'debtEquityRatio': 2.6144616356173036, 'longTermDebtToCapitalization': 0.6613535965140913, 'totalDebtToCapitalization': 0.7233336245304447, 'interestCoverage': 40.74957352439441, 'cashFlowToDebtRatio': 0.9220335144927536, 'companyEquityMultiplier': 6.961536943479634, 'receivablesTurnover': 6.471607693822622, 'payablesTurnover': 3.486641191608828, 'inventoryTurnover': 45.19733117670845, 'fixedAssetTurnover': 7.506148399131991, 'assetTurnover': 1.1178523337727317, 'operatingCashFlowPerShare': 7.532762624088375, 'freeCashFlowPerShare': 6.872425646259799, 'cashPerShare': 2.9787931805221803, 'payoutRatio': 0.14870294480125848, 'operatingCashFlowSalesRatio': 0.30977003915522106, 'freeCashFlowOperatingCashFlowRatio': 0.9123380078754983, 'cashFlowCoverageRatios': 0.9220335144927536, 'shortTermCoverageRatios': 5.786404547607769, 'capitalExpenditureCoverageRatio': 11.407452372058275, 'dividendPaidAndCapexCoverageRatio': 4.781048181924929, 'dividendPayoutRatio': 0.14870294480125848, 'priceBookValueRatio': 48.14034011071204, 'priceToBookRatio': 48.14034011071204, 'priceToSalesRatio': 6.186137718067193, 'priceEarningsRatio': 24.441823533260525, 'priceToFreeCashFlowsRatio': 21.888923611981014, 'priceToOperatingCashFlowsRatio': 19.970096962693717, 'priceCashFlowRatio': 19.970096962693717, 'priceEarningsToGrowthRatio': 2.8871904048664, 'priceSalesRatio': 6.186137718067193, 'dividendYield': 0.006083954603424043, 'enterpriseValueMultiple': 19.520314032296366, 'priceFairValue': 48.14034011071204}]\n"
          ]
        }
      ]
    },
    {
      "cell_type": "code",
      "source": [
        "from newsapi import NewsApiClient\n",
        "\n",
        "newsapi = NewsApiClient(api_key=\"ba3628dc041f454190721e44f7a1f6bc\")\n",
        "\n",
        "def get_stock_news(stock_name):\n",
        "    articles = newsapi.get_everything(q=stock_name, language=\"en\", sort_by=\"relevancy\")\n",
        "    return articles['articles']\n",
        "\n",
        "# Example: Fetch news for Tesla\n",
        "news = get_stock_news(\"AAPL\")\n",
        "for article in news[:3]:  # Display first 3 articles\n",
        "    print(article[\"title\"])\n"
      ],
      "metadata": {
        "colab": {
          "base_uri": "https://localhost:8080/"
        },
        "id": "Sfss1hjsB4HJ",
        "outputId": "c13f179f-b01c-4231-88c0-f9c5f84e7acf"
      },
      "execution_count": 15,
      "outputs": [
        {
          "output_type": "stream",
          "name": "stdout",
          "text": [
            "Is Apple Inc. (AAPL) the Best NASDAQ Dividend Stock to Buy?\n",
            "What matters most for AAPL shares next week\n",
            "Stock market today: Dow ekes out gains, bitcoin slumps as 'Santa Claus' rally takes a pause\n"
          ]
        }
      ]
    },
    {
      "cell_type": "code",
      "source": [
        "!pip uninstall -y pymupdf\n",
        "!pip install pymupdf\n"
      ],
      "metadata": {
        "colab": {
          "base_uri": "https://localhost:8080/"
        },
        "id": "11ziGxgOVnit",
        "outputId": "a4d20c6c-c36e-4b78-8446-98983e69745b"
      },
      "execution_count": 16,
      "outputs": [
        {
          "output_type": "stream",
          "name": "stdout",
          "text": [
            "Found existing installation: PyMuPDF 1.25.2\n",
            "Uninstalling PyMuPDF-1.25.2:\n",
            "  Successfully uninstalled PyMuPDF-1.25.2\n",
            "Collecting pymupdf\n",
            "  Using cached pymupdf-1.25.2-cp39-abi3-manylinux2014_x86_64.manylinux_2_17_x86_64.whl.metadata (3.4 kB)\n",
            "Using cached pymupdf-1.25.2-cp39-abi3-manylinux2014_x86_64.manylinux_2_17_x86_64.whl (20.0 MB)\n",
            "Installing collected packages: pymupdf\n",
            "Successfully installed pymupdf-1.25.2\n"
          ]
        }
      ]
    },
    {
      "cell_type": "code",
      "source": [
        "import os\n",
        "import fitz  # PyMuPDF\n",
        "\n",
        "def extract_text_from_pdf(pdf_path):\n",
        "    \"\"\"\n",
        "    Extract text from a given PDF file.\n",
        "    \"\"\"\n",
        "    try:\n",
        "        doc = fitz.open(pdf_path)  # Open the PDF file\n",
        "        text = \"\"\n",
        "        for page in doc:\n",
        "            text += page.get_text()  # Extract text from each page\n",
        "        doc.close()\n",
        "        return text\n",
        "    except Exception as e:\n",
        "        print(f\"Error reading {pdf_path}: {e}\")\n",
        "        return None\n",
        "\n",
        "def process_pdfs_in_directory(directory_path, stock_tickers):\n",
        "    \"\"\"\n",
        "    Loop through all PDF files in a directory and extract text for each stock ticker.\n",
        "    \"\"\"\n",
        "    extracted_data = {}\n",
        "    directory_path = \"/content/my_directory\"\n",
        "    # Loop through each file in the directory\n",
        "    for filename in os.listdir(directory_path):\n",
        "        if filename.endswith(\".pdf\"):  # Only process PDF files\n",
        "            # Check if the filename matches a stock ticker\n",
        "            for ticker in stock_tickers:\n",
        "                if ticker in filename:\n",
        "                    pdf_path = os.path.join(directory_path, filename)\n",
        "                    print(f\"Processing file: {filename} for stock ticker: {ticker}\")\n",
        "\n",
        "                    # Extract text from the PDF\n",
        "                    text = extract_text_from_pdf(pdf_path)\n",
        "                    if text:\n",
        "                        extracted_data[ticker] = text\n",
        "                    break  # Stop checking other tickers for this file\n",
        "\n",
        "    return extracted_data\n",
        "\n",
        "# Example usage:\n",
        "directory = \"./financial_reports\"  # Path to the directory containing PDF reports\n",
        "tickers = [\"AAPL\", \"MSFT\", \"GOOGL\", \"AMZN\", \"TSLA\"]  # List of stock tickers\n",
        "\n",
        "# Extract text for each ticker\n",
        "data = process_pdfs_in_directory(directory, tickers)\n",
        "\n",
        "# Display extracted text for each stock ticker\n",
        "for ticker, text in data.items():\n",
        "    print(f\"\\nExtracted text for {ticker}:\\n{text[:500]}...\\n\")  # Display the first 500 characters\n"
      ],
      "metadata": {
        "id": "Qo1ZpBNDMzsk"
      },
      "execution_count": 17,
      "outputs": []
    },
    {
      "cell_type": "code",
      "source": [
        "import os\n",
        "\n",
        "# Create a directory named 'my_directory'\n",
        "directory_path = \"/content/my_directory\"\n",
        "os.makedirs(directory_path, exist_ok=True)  # `exist_ok=True` prevents errors if the directory already exists\n",
        "print(f\"Directory created at: {directory_path}\")\n"
      ],
      "metadata": {
        "colab": {
          "base_uri": "https://localhost:8080/"
        },
        "id": "rsNzg221R4e9",
        "outputId": "33874027-006c-44dd-b172-4aa4e64d94a4"
      },
      "execution_count": 18,
      "outputs": [
        {
          "output_type": "stream",
          "name": "stdout",
          "text": [
            "Directory created at: /content/my_directory\n"
          ]
        }
      ]
    },
    {
      "cell_type": "code",
      "source": [
        "from google.colab import drive\n",
        "drive.mount('/content/drive')"
      ],
      "metadata": {
        "colab": {
          "base_uri": "https://localhost:8080/"
        },
        "id": "jvzDyPY60s27",
        "outputId": "348d6a4f-e81b-41bc-9e30-8818f92da026"
      },
      "execution_count": 19,
      "outputs": [
        {
          "output_type": "stream",
          "name": "stdout",
          "text": [
            "Drive already mounted at /content/drive; to attempt to forcibly remount, call drive.mount(\"/content/drive\", force_remount=True).\n"
          ]
        }
      ]
    },
    {
      "cell_type": "code",
      "source": [
        "from transformers import pipeline\n",
        "\n",
        "sentiment_analysis = pipeline(\"sentiment-analysis\")\n",
        "\n",
        "# Analyze sentiment for news headlines\n",
        "headlines = [article[\"title\"] for article in news]\n",
        "sentiments = sentiment_analysis(headlines)\n",
        "print(sentiments)\n"
      ],
      "metadata": {
        "colab": {
          "base_uri": "https://localhost:8080/",
          "height": 339,
          "referenced_widgets": [
            "e9d71e5404664df6b8e48699c97cf444",
            "68c174ed45e747d582091b43386f2eb6",
            "36bc73b908844333a73178e5e8ad4aff",
            "7646d27b4bb74dcfb01aba2616f5fa82",
            "aba8e26eab7a4af4be86bbbccfd13bdc",
            "a58ac398f9c64320ba07557f7a96565a",
            "756a202f777c482188288f4a34fa1a51",
            "5ba341d456b6447a9ecf16fbe838baff",
            "38c1231326684a4cb7c5a56e951a008b",
            "d477b1cf4e4a4a839c57b142d7ce5d87",
            "549ff48e929648ceaddde9284d8afb2d",
            "bd517b5049ee44b689fb3c63192d260d",
            "4280f9a11b434166bc99dcfdcc2fdc0e",
            "273e563efe174a56861315dc36c9e1b3",
            "0a4a06dd658e47c19a0a35bbcb07f937",
            "4e6f61d3cbac4af8b1bf09bd8567dff5",
            "54c8ce3138d54fb6be2be847e0f3db54",
            "04965ae7c29a4f3ea739d16f0c99909a",
            "764475248e1043079bdaa2360c8131a7",
            "d44eb086ebab4a1b865e2080cc48c6e3",
            "1fd8d9a392b54a6d854eed9c73be226a",
            "2d22400d38bd4581980e64d775b2550c",
            "05f934b1ad794b959a16eb41c5163f80",
            "5a1dae98631b452197e055e58d8f0ef1",
            "71c98711e8ed432db760ed444b3f54f2",
            "e931996f6ff549ed8515baae254b1adc",
            "13185dcc79444c69b4f586928a8cd1db",
            "16c2524c720f4e47afd131953e945377",
            "12278a6a197d4dd185c166ad1c091b34",
            "6d7a13e3835b45bcaf817a8dd340f592",
            "b2f5a9f2935746438ca00379e8e33f1e",
            "df7f9273569c4b0fb17442d3eff9f02f",
            "03e5da90de6145048cc87c58e0eac23d",
            "a36eea0554dd4fd98a0190f44f7c8229",
            "c7277bbd638b4166991f2ba689d53e7e",
            "a464f9959c8c47d3b1a8c335c23caa2c",
            "8f9399b3644c433daab822460cae7c94",
            "88ffc479be8d47d58052819528377fb8",
            "0a97d1eb54104a9e8c0540f6e5cbc237",
            "f109ebeba9e44ed5bdc23b4d6e065da9",
            "3d0c81d5425c45178b625f1fe052e957",
            "89edf9214a9347e1ba593e130c2a12ee",
            "4358e2f820d249fd9d43b2590d10df4d",
            "38e31ee920144039ab7b3f89dcfdffc9"
          ]
        },
        "id": "5xtJSnSDWHM8",
        "outputId": "ea5bb7ed-42c8-463a-d845-ef796f98c19f"
      },
      "execution_count": 20,
      "outputs": [
        {
          "output_type": "stream",
          "name": "stderr",
          "text": [
            "No model was supplied, defaulted to distilbert/distilbert-base-uncased-finetuned-sst-2-english and revision 714eb0f (https://huggingface.co/distilbert/distilbert-base-uncased-finetuned-sst-2-english).\n",
            "Using a pipeline without specifying a model name and revision in production is not recommended.\n",
            "/usr/local/lib/python3.11/dist-packages/huggingface_hub/utils/_auth.py:94: UserWarning: \n",
            "The secret `HF_TOKEN` does not exist in your Colab secrets.\n",
            "To authenticate with the Hugging Face Hub, create a token in your settings tab (https://huggingface.co/settings/tokens), set it as secret in your Google Colab and restart your session.\n",
            "You will be able to reuse this secret in all of your notebooks.\n",
            "Please note that authentication is recommended but still optional to access public models or datasets.\n",
            "  warnings.warn(\n"
          ]
        },
        {
          "output_type": "display_data",
          "data": {
            "text/plain": [
              "config.json:   0%|          | 0.00/629 [00:00<?, ?B/s]"
            ],
            "application/vnd.jupyter.widget-view+json": {
              "version_major": 2,
              "version_minor": 0,
              "model_id": "e9d71e5404664df6b8e48699c97cf444"
            }
          },
          "metadata": {}
        },
        {
          "output_type": "display_data",
          "data": {
            "text/plain": [
              "model.safetensors:   0%|          | 0.00/268M [00:00<?, ?B/s]"
            ],
            "application/vnd.jupyter.widget-view+json": {
              "version_major": 2,
              "version_minor": 0,
              "model_id": "bd517b5049ee44b689fb3c63192d260d"
            }
          },
          "metadata": {}
        },
        {
          "output_type": "display_data",
          "data": {
            "text/plain": [
              "tokenizer_config.json:   0%|          | 0.00/48.0 [00:00<?, ?B/s]"
            ],
            "application/vnd.jupyter.widget-view+json": {
              "version_major": 2,
              "version_minor": 0,
              "model_id": "05f934b1ad794b959a16eb41c5163f80"
            }
          },
          "metadata": {}
        },
        {
          "output_type": "display_data",
          "data": {
            "text/plain": [
              "vocab.txt:   0%|          | 0.00/232k [00:00<?, ?B/s]"
            ],
            "application/vnd.jupyter.widget-view+json": {
              "version_major": 2,
              "version_minor": 0,
              "model_id": "a36eea0554dd4fd98a0190f44f7c8229"
            }
          },
          "metadata": {}
        },
        {
          "output_type": "stream",
          "name": "stderr",
          "text": [
            "Device set to use cuda:0\n"
          ]
        },
        {
          "output_type": "stream",
          "name": "stdout",
          "text": [
            "[{'label': 'POSITIVE', 'score': 0.9980683922767639}, {'label': 'POSITIVE', 'score': 0.9781015515327454}, {'label': 'NEGATIVE', 'score': 0.9994829893112183}, {'label': 'POSITIVE', 'score': 0.996825098991394}, {'label': 'NEGATIVE', 'score': 0.998754620552063}, {'label': 'POSITIVE', 'score': 0.8892133235931396}, {'label': 'NEGATIVE', 'score': 0.866974949836731}, {'label': 'NEGATIVE', 'score': 0.8940035700798035}, {'label': 'POSITIVE', 'score': 0.9212745428085327}, {'label': 'NEGATIVE', 'score': 0.9699804186820984}, {'label': 'POSITIVE', 'score': 0.7020868062973022}, {'label': 'POSITIVE', 'score': 0.989510715007782}, {'label': 'NEGATIVE', 'score': 0.9958817958831787}, {'label': 'NEGATIVE', 'score': 0.9997609257698059}, {'label': 'NEGATIVE', 'score': 0.9997251629829407}, {'label': 'NEGATIVE', 'score': 0.9991369843482971}, {'label': 'NEGATIVE', 'score': 0.9993005990982056}, {'label': 'NEGATIVE', 'score': 0.9996020197868347}, {'label': 'NEGATIVE', 'score': 0.9994818568229675}, {'label': 'NEGATIVE', 'score': 0.9927436113357544}, {'label': 'NEGATIVE', 'score': 0.8972985148429871}, {'label': 'NEGATIVE', 'score': 0.9934107661247253}, {'label': 'NEGATIVE', 'score': 0.9994451403617859}, {'label': 'NEGATIVE', 'score': 0.9388000965118408}, {'label': 'NEGATIVE', 'score': 0.9942783117294312}, {'label': 'NEGATIVE', 'score': 0.998954176902771}, {'label': 'NEGATIVE', 'score': 0.9802122116088867}, {'label': 'NEGATIVE', 'score': 0.9993299245834351}, {'label': 'NEGATIVE', 'score': 0.9997348189353943}, {'label': 'NEGATIVE', 'score': 0.5208613872528076}, {'label': 'NEGATIVE', 'score': 0.9980972409248352}, {'label': 'NEGATIVE', 'score': 0.9853329062461853}, {'label': 'NEGATIVE', 'score': 0.9996449947357178}, {'label': 'NEGATIVE', 'score': 0.9996436834335327}, {'label': 'NEGATIVE', 'score': 0.9996424913406372}, {'label': 'NEGATIVE', 'score': 0.9980606436729431}, {'label': 'NEGATIVE', 'score': 0.9991681575775146}, {'label': 'NEGATIVE', 'score': 0.8800110220909119}, {'label': 'POSITIVE', 'score': 0.9997338652610779}, {'label': 'POSITIVE', 'score': 0.9996615648269653}, {'label': 'POSITIVE', 'score': 0.9965853691101074}, {'label': 'POSITIVE', 'score': 0.9960060715675354}, {'label': 'NEGATIVE', 'score': 0.9791523814201355}, {'label': 'NEGATIVE', 'score': 0.9888269901275635}, {'label': 'NEGATIVE', 'score': 0.999182403087616}, {'label': 'NEGATIVE', 'score': 0.7659447193145752}, {'label': 'POSITIVE', 'score': 0.9997734427452087}, {'label': 'POSITIVE', 'score': 0.9752205014228821}, {'label': 'NEGATIVE', 'score': 0.9971518516540527}, {'label': 'NEGATIVE', 'score': 0.9986257553100586}, {'label': 'POSITIVE', 'score': 0.9884400367736816}, {'label': 'NEGATIVE', 'score': 0.9993409514427185}, {'label': 'NEGATIVE', 'score': 0.9854835867881775}, {'label': 'NEGATIVE', 'score': 0.8869488835334778}, {'label': 'NEGATIVE', 'score': 0.9816452264785767}, {'label': 'POSITIVE', 'score': 0.9950473308563232}, {'label': 'NEGATIVE', 'score': 0.9640103578567505}, {'label': 'NEGATIVE', 'score': 0.9739581346511841}, {'label': 'POSITIVE', 'score': 0.8162696361541748}, {'label': 'POSITIVE', 'score': 0.9984117746353149}, {'label': 'NEGATIVE', 'score': 0.9570968151092529}, {'label': 'NEGATIVE', 'score': 0.9679485559463501}, {'label': 'NEGATIVE', 'score': 0.9887843132019043}, {'label': 'POSITIVE', 'score': 0.912408709526062}, {'label': 'POSITIVE', 'score': 0.9975300431251526}, {'label': 'NEGATIVE', 'score': 0.982448935508728}, {'label': 'POSITIVE', 'score': 0.9990180730819702}, {'label': 'POSITIVE', 'score': 0.9995545744895935}, {'label': 'NEGATIVE', 'score': 0.9997442364692688}, {'label': 'NEGATIVE', 'score': 0.5827203392982483}, {'label': 'NEGATIVE', 'score': 0.9993076324462891}, {'label': 'NEGATIVE', 'score': 0.9757821559906006}, {'label': 'NEGATIVE', 'score': 0.998568058013916}, {'label': 'NEGATIVE', 'score': 0.9860579371452332}, {'label': 'NEGATIVE', 'score': 0.9978620409965515}, {'label': 'POSITIVE', 'score': 0.9969633221626282}, {'label': 'POSITIVE', 'score': 0.7837889790534973}, {'label': 'NEGATIVE', 'score': 0.9641473889350891}, {'label': 'NEGATIVE', 'score': 0.9828858375549316}, {'label': 'NEGATIVE', 'score': 0.9665734767913818}, {'label': 'NEGATIVE', 'score': 0.9825237393379211}, {'label': 'POSITIVE', 'score': 0.9989960789680481}, {'label': 'NEGATIVE', 'score': 0.9683246612548828}, {'label': 'NEGATIVE', 'score': 0.974073052406311}, {'label': 'NEGATIVE', 'score': 0.9915567636489868}, {'label': 'NEGATIVE', 'score': 0.9745416641235352}, {'label': 'NEGATIVE', 'score': 0.9828310012817383}, {'label': 'NEGATIVE', 'score': 0.9940438866615295}, {'label': 'NEGATIVE', 'score': 0.9816576242446899}, {'label': 'NEGATIVE', 'score': 0.9772276282310486}, {'label': 'NEGATIVE', 'score': 0.9949630498886108}, {'label': 'NEGATIVE', 'score': 0.9751231670379639}, {'label': 'NEGATIVE', 'score': 0.9893680214881897}, {'label': 'NEGATIVE', 'score': 0.9653712511062622}, {'label': 'NEGATIVE', 'score': 0.9592488408088684}, {'label': 'NEGATIVE', 'score': 0.990095853805542}, {'label': 'NEGATIVE', 'score': 0.9438639879226685}, {'label': 'NEGATIVE', 'score': 0.9887056946754456}, {'label': 'NEGATIVE', 'score': 0.9762516021728516}, {'label': 'NEGATIVE', 'score': 0.9901987314224243}]\n"
          ]
        }
      ]
    },
    {
      "cell_type": "code",
      "source": [
        "import numpy as np\n",
        "from keras.models import Sequential\n",
        "from keras.layers import LSTM, Dense\n",
        "\n",
        "# Prepare data for LSTM\n",
        "def prepare_data(data, lookback=30):\n",
        "    X, y = [], []\n",
        "    for i in range(len(data) - lookback):\n",
        "        X.append(data[i:i + lookback])\n",
        "        y.append(data[i + lookback])\n",
        "    return np.array(X), np.array(y)\n",
        "\n",
        "# Example: Train on Apple stock prices\n",
        "data = aapl_data[\"Close\"].values\n",
        "X, y = prepare_data(data)\n",
        "X = X.reshape(X.shape[0], X.shape[1], 1)\n",
        "\n",
        "# Build and train the LSTM model\n",
        "model = Sequential([\n",
        "    LSTM(50, return_sequences=True, input_shape=(X.shape[1], 1)),\n",
        "    LSTM(50),\n",
        "    Dense(1)\n",
        "])\n",
        "model.compile(optimizer=\"adam\", loss=\"mse\")\n",
        "model.fit(X, y, epochs=20, batch_size=32)\n"
      ],
      "metadata": {
        "colab": {
          "base_uri": "https://localhost:8080/"
        },
        "id": "BF8Hi7fPW0wR",
        "outputId": "f2e3042c-8c65-4a45-aa42-1ebae263963c"
      },
      "execution_count": 21,
      "outputs": [
        {
          "output_type": "stream",
          "name": "stderr",
          "text": [
            "/usr/local/lib/python3.11/dist-packages/keras/src/layers/rnn/rnn.py:204: UserWarning: Do not pass an `input_shape`/`input_dim` argument to a layer. When using Sequential models, prefer using an `Input(shape)` object as the first layer in the model instead.\n",
            "  super().__init__(**kwargs)\n"
          ]
        },
        {
          "output_type": "stream",
          "name": "stdout",
          "text": [
            "Epoch 1/20\n",
            "\u001b[1m7/7\u001b[0m \u001b[32m━━━━━━━━━━━━━━━━━━━━\u001b[0m\u001b[37m\u001b[0m \u001b[1m3s\u001b[0m 11ms/step - loss: 22715.7480\n",
            "Epoch 2/20\n",
            "\u001b[1m7/7\u001b[0m \u001b[32m━━━━━━━━━━━━━━━━━━━━\u001b[0m\u001b[37m\u001b[0m \u001b[1m1s\u001b[0m 8ms/step - loss: 22079.2832  \n",
            "Epoch 3/20\n",
            "\u001b[1m7/7\u001b[0m \u001b[32m━━━━━━━━━━━━━━━━━━━━\u001b[0m\u001b[37m\u001b[0m \u001b[1m0s\u001b[0m 8ms/step - loss: 21922.1758 \n",
            "Epoch 4/20\n",
            "\u001b[1m7/7\u001b[0m \u001b[32m━━━━━━━━━━━━━━━━━━━━\u001b[0m\u001b[37m\u001b[0m \u001b[1m0s\u001b[0m 11ms/step - loss: 21191.2520\n",
            "Epoch 5/20\n",
            "\u001b[1m7/7\u001b[0m \u001b[32m━━━━━━━━━━━━━━━━━━━━\u001b[0m\u001b[37m\u001b[0m \u001b[1m0s\u001b[0m 11ms/step - loss: 21216.6348\n",
            "Epoch 6/20\n",
            "\u001b[1m7/7\u001b[0m \u001b[32m━━━━━━━━━━━━━━━━━━━━\u001b[0m\u001b[37m\u001b[0m \u001b[1m0s\u001b[0m 10ms/step - loss: 20419.7031\n",
            "Epoch 7/20\n",
            "\u001b[1m7/7\u001b[0m \u001b[32m━━━━━━━━━━━━━━━━━━━━\u001b[0m\u001b[37m\u001b[0m \u001b[1m0s\u001b[0m 10ms/step - loss: 20197.9395\n",
            "Epoch 8/20\n",
            "\u001b[1m7/7\u001b[0m \u001b[32m━━━━━━━━━━━━━━━━━━━━\u001b[0m\u001b[37m\u001b[0m \u001b[1m0s\u001b[0m 9ms/step - loss: 20141.7773\n",
            "Epoch 9/20\n",
            "\u001b[1m7/7\u001b[0m \u001b[32m━━━━━━━━━━━━━━━━━━━━\u001b[0m\u001b[37m\u001b[0m \u001b[1m0s\u001b[0m 14ms/step - loss: 19952.4297\n",
            "Epoch 10/20\n",
            "\u001b[1m7/7\u001b[0m \u001b[32m━━━━━━━━━━━━━━━━━━━━\u001b[0m\u001b[37m\u001b[0m \u001b[1m0s\u001b[0m 11ms/step - loss: 19732.8574\n",
            "Epoch 11/20\n",
            "\u001b[1m7/7\u001b[0m \u001b[32m━━━━━━━━━━━━━━━━━━━━\u001b[0m\u001b[37m\u001b[0m \u001b[1m0s\u001b[0m 9ms/step - loss: 19354.0508\n",
            "Epoch 12/20\n",
            "\u001b[1m7/7\u001b[0m \u001b[32m━━━━━━━━━━━━━━━━━━━━\u001b[0m\u001b[37m\u001b[0m \u001b[1m0s\u001b[0m 10ms/step - loss: 19496.5156\n",
            "Epoch 13/20\n",
            "\u001b[1m7/7\u001b[0m \u001b[32m━━━━━━━━━━━━━━━━━━━━\u001b[0m\u001b[37m\u001b[0m \u001b[1m0s\u001b[0m 8ms/step - loss: 19368.4004 \n",
            "Epoch 14/20\n",
            "\u001b[1m7/7\u001b[0m \u001b[32m━━━━━━━━━━━━━━━━━━━━\u001b[0m\u001b[37m\u001b[0m \u001b[1m0s\u001b[0m 7ms/step - loss: 19392.4688 \n",
            "Epoch 15/20\n",
            "\u001b[1m7/7\u001b[0m \u001b[32m━━━━━━━━━━━━━━━━━━━━\u001b[0m\u001b[37m\u001b[0m \u001b[1m0s\u001b[0m 7ms/step - loss: 19101.3457 \n",
            "Epoch 16/20\n",
            "\u001b[1m7/7\u001b[0m \u001b[32m━━━━━━━━━━━━━━━━━━━━\u001b[0m\u001b[37m\u001b[0m \u001b[1m0s\u001b[0m 7ms/step - loss: 19107.6230 \n",
            "Epoch 17/20\n",
            "\u001b[1m7/7\u001b[0m \u001b[32m━━━━━━━━━━━━━━━━━━━━\u001b[0m\u001b[37m\u001b[0m \u001b[1m0s\u001b[0m 7ms/step - loss: 18807.5273 \n",
            "Epoch 18/20\n",
            "\u001b[1m7/7\u001b[0m \u001b[32m━━━━━━━━━━━━━━━━━━━━\u001b[0m\u001b[37m\u001b[0m \u001b[1m0s\u001b[0m 7ms/step - loss: 18834.3945 \n",
            "Epoch 19/20\n",
            "\u001b[1m7/7\u001b[0m \u001b[32m━━━━━━━━━━━━━━━━━━━━\u001b[0m\u001b[37m\u001b[0m \u001b[1m0s\u001b[0m 7ms/step - loss: 18457.4766 \n",
            "Epoch 20/20\n",
            "\u001b[1m7/7\u001b[0m \u001b[32m━━━━━━━━━━━━━━━━━━━━\u001b[0m\u001b[37m\u001b[0m \u001b[1m0s\u001b[0m 7ms/step - loss: 18333.7676 \n"
          ]
        },
        {
          "output_type": "execute_result",
          "data": {
            "text/plain": [
              "<keras.src.callbacks.history.History at 0x7ba95f1d9610>"
            ]
          },
          "metadata": {},
          "execution_count": 21
        }
      ]
    },
    {
      "cell_type": "code",
      "source": [
        "from transformers import pipeline\n",
        "\n",
        "# Initialize the Hugging Face summarization pipeline\n",
        "summarizer = pipeline(\"summarization\")\n",
        "\n",
        "# Example text (replace with extracted report text)\n",
        "text = \"\"\"\n",
        "Apple Inc. (AAPL) reported its Q4 2024 financial results today. The company posted a revenue of $94.6 billion, a 10% increase compared to the same quarter last year. Net income for the quarter was $20.6 billion, a 5% increase year-over-year. The company's iPhone sales showed strong growth, with a 12% increase in units sold. Despite the ongoing global supply chain disruptions, Apple continues to show resilience and strong demand for its products.\n",
        "\"\"\"\n",
        "\n",
        "# Summarize the text using Hugging Face's pipeline\n",
        "summary_huggingface = summarizer(text, max_length=200, min_length=50, do_sample=False)\n",
        "\n",
        "# Print the Hugging Face summary\n",
        "print(\"Summary using Hugging Face pipeline:\")\n",
        "print(summary_huggingface[0]['summary_text'])\n"
      ],
      "metadata": {
        "colab": {
          "base_uri": "https://localhost:8080/"
        },
        "id": "zBLyTdUUxDlQ",
        "outputId": "93426823-5509-4d63-e346-8e5f7061e66b"
      },
      "execution_count": 26,
      "outputs": [
        {
          "output_type": "stream",
          "name": "stderr",
          "text": [
            "No model was supplied, defaulted to sshleifer/distilbart-cnn-12-6 and revision a4f8f3e (https://huggingface.co/sshleifer/distilbart-cnn-12-6).\n",
            "Using a pipeline without specifying a model name and revision in production is not recommended.\n",
            "Device set to use cuda:0\n",
            "Your max_length is set to 200, but your input_length is only 106. Since this is a summarization task, where outputs shorter than the input are typically wanted, you might consider decreasing max_length manually, e.g. summarizer('...', max_length=53)\n"
          ]
        },
        {
          "output_type": "stream",
          "name": "stdout",
          "text": [
            "Summary using Hugging Face pipeline:\n",
            " The company posted a revenue of $94.6 billion, a 10% increase compared to the same quarter last year . The company's iPhone sales showed strong growth, with a 12% increase in units sold . Despite the ongoing global supply chain disruptions, Apple continues to show resilience .\n"
          ]
        }
      ]
    }
  ]
}